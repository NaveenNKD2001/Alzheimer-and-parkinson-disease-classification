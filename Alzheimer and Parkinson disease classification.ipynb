{
 "cells": [
  {
   "cell_type": "code",
   "execution_count": 1,
   "id": "ac96bc26",
   "metadata": {},
   "outputs": [],
   "source": [
    "import numpy as np\n",
    "import pandas as pd\n",
    "import tensorflow as tf"
   ]
  },
  {
   "cell_type": "code",
   "execution_count": 2,
   "id": "a76ec3af",
   "metadata": {},
   "outputs": [
    {
     "name": "stdout",
     "output_type": "stream",
     "text": [
      "Found 98 files belonging to 2 classes.\n"
     ]
    }
   ],
   "source": [
    "train_set=tf.keras.utils.image_dataset_from_directory('C:\\\\Users\\\\navee\\\\BrainTumorClassification\\\\Train',\n",
    "                                                      labels='inferred',\n",
    "                                            image_size = (64, 64),\n",
    "                                            batch_size = 32)"
   ]
  },
  {
   "cell_type": "code",
   "execution_count": 3,
   "id": "d54eb2af",
   "metadata": {},
   "outputs": [
    {
     "name": "stdout",
     "output_type": "stream",
     "text": [
      "Found 20 files belonging to 2 classes.\n"
     ]
    }
   ],
   "source": [
    "test_set= tf.keras.utils.image_dataset_from_directory('C:\\\\Users\\\\navee\\\\BrainTumorClassification\\\\Test',\n",
    "                                                      labels='inferred',\n",
    "                                         image_size=(64,64),\n",
    "                                         batch_size=32)"
   ]
  },
  {
   "cell_type": "code",
   "execution_count": 4,
   "id": "156bbd2f",
   "metadata": {},
   "outputs": [],
   "source": [
    "model=tf.keras.models.Sequential()"
   ]
  },
  {
   "cell_type": "code",
   "execution_count": 5,
   "id": "aeb3ecb3",
   "metadata": {},
   "outputs": [],
   "source": [
    "model.add(tf.keras.layers.Conv2D(filters=32, kernel_size=3, activation='relu', input_shape=[64, 64,3]))\n",
    "model.add(tf.keras.layers.MaxPool2D(pool_size=2, strides=2))"
   ]
  },
  {
   "cell_type": "code",
   "execution_count": 6,
   "id": "0a490f27",
   "metadata": {},
   "outputs": [],
   "source": [
    "model.add(tf.keras.layers.Conv2D(filters=32, kernel_size=3, activation='relu', input_shape=[64, 64,3]))\n",
    "model.add(tf.keras.layers.MaxPool2D(pool_size=2, strides=2))"
   ]
  },
  {
   "cell_type": "code",
   "execution_count": 7,
   "id": "9cc570b3",
   "metadata": {},
   "outputs": [],
   "source": [
    "model.add(tf.keras.layers.Flatten())"
   ]
  },
  {
   "cell_type": "code",
   "execution_count": 8,
   "id": "6b12bffe",
   "metadata": {},
   "outputs": [],
   "source": [
    "model.add(tf.keras.layers.Dense(units=128, activation='relu'))"
   ]
  },
  {
   "cell_type": "code",
   "execution_count": 9,
   "id": "684a3a4a",
   "metadata": {},
   "outputs": [],
   "source": [
    "model.add(tf.keras.layers.Dense(units=1, activation='sigmoid'))"
   ]
  },
  {
   "cell_type": "code",
   "execution_count": 10,
   "id": "4da3e86d",
   "metadata": {},
   "outputs": [],
   "source": [
    "model.compile(optimizer = 'adam', loss = 'binary_crossentropy', metrics = ['accuracy'])"
   ]
  },
  {
   "cell_type": "code",
   "execution_count": 13,
   "id": "17231a71",
   "metadata": {},
   "outputs": [
    {
     "name": "stdout",
     "output_type": "stream",
     "text": [
      "Epoch 1/15\n",
      "4/4 [==============================] - 3s 190ms/step - loss: 37.5549 - accuracy: 0.4388 - val_loss: 3.8758e-06 - val_accuracy: 1.0000\n",
      "Epoch 2/15\n",
      "4/4 [==============================] - 0s 79ms/step - loss: 0.0020 - accuracy: 1.0000 - val_loss: 6.2771e-19 - val_accuracy: 1.0000\n",
      "Epoch 3/15\n",
      "4/4 [==============================] - 0s 84ms/step - loss: 3.0298e-10 - accuracy: 1.0000 - val_loss: 6.5450e-21 - val_accuracy: 1.0000\n",
      "Epoch 4/15\n",
      "4/4 [==============================] - 0s 82ms/step - loss: 3.7579e-10 - accuracy: 1.0000 - val_loss: 4.8420e-17 - val_accuracy: 1.0000\n",
      "Epoch 5/15\n",
      "4/4 [==============================] - 0s 80ms/step - loss: 1.5528e-06 - accuracy: 1.0000 - val_loss: 7.6005e-18 - val_accuracy: 1.0000\n",
      "Epoch 6/15\n",
      "4/4 [==============================] - 0s 79ms/step - loss: 2.0869e-09 - accuracy: 1.0000 - val_loss: 6.2044e-19 - val_accuracy: 1.0000\n",
      "Epoch 7/15\n",
      "4/4 [==============================] - 0s 74ms/step - loss: 9.3244e-11 - accuracy: 1.0000 - val_loss: 2.0102e-19 - val_accuracy: 1.0000\n",
      "Epoch 8/15\n",
      "4/4 [==============================] - 0s 79ms/step - loss: 3.5277e-11 - accuracy: 1.0000 - val_loss: 9.7678e-20 - val_accuracy: 1.0000\n",
      "Epoch 9/15\n",
      "4/4 [==============================] - 0s 78ms/step - loss: 1.3487e-11 - accuracy: 1.0000 - val_loss: 6.5508e-20 - val_accuracy: 1.0000\n",
      "Epoch 10/15\n",
      "4/4 [==============================] - 0s 82ms/step - loss: 8.0883e-12 - accuracy: 1.0000 - val_loss: 5.2106e-20 - val_accuracy: 1.0000\n",
      "Epoch 11/15\n",
      "4/4 [==============================] - 0s 85ms/step - loss: 6.6477e-12 - accuracy: 1.0000 - val_loss: 4.5509e-20 - val_accuracy: 1.0000\n",
      "Epoch 12/15\n",
      "4/4 [==============================] - 0s 79ms/step - loss: 5.5181e-12 - accuracy: 1.0000 - val_loss: 4.1737e-20 - val_accuracy: 1.0000\n",
      "Epoch 13/15\n",
      "4/4 [==============================] - 0s 85ms/step - loss: 4.9353e-12 - accuracy: 1.0000 - val_loss: 3.9467e-20 - val_accuracy: 1.0000\n",
      "Epoch 14/15\n",
      "4/4 [==============================] - 0s 90ms/step - loss: 4.6341e-12 - accuracy: 1.0000 - val_loss: 3.7974e-20 - val_accuracy: 1.0000\n",
      "Epoch 15/15\n",
      "4/4 [==============================] - 0s 90ms/step - loss: 4.5330e-12 - accuracy: 1.0000 - val_loss: 3.7027e-20 - val_accuracy: 1.0000\n"
     ]
    },
    {
     "data": {
      "text/plain": [
       "<keras.src.callbacks.History at 0x22f24af6a10>"
      ]
     },
     "execution_count": 13,
     "metadata": {},
     "output_type": "execute_result"
    }
   ],
   "source": [
    "model.fit(train_set, validation_data = test_set, epochs = 15)"
   ]
  },
  {
   "cell_type": "code",
   "execution_count": 14,
   "id": "3919e8c1",
   "metadata": {},
   "outputs": [
    {
     "name": "stdout",
     "output_type": "stream",
     "text": [
      "1/1 [==============================] - 0s 203ms/step\n"
     ]
    }
   ],
   "source": [
    "import numpy as np\n",
    "from keras.preprocessing import image\n",
    "test_image = image.load_img('C:\\\\Users\\\\navee\\\\BrainTumorClassification\\\\15.png', target_size = (64, 64))\n",
    "test_image = image.img_to_array(test_image)\n",
    "test_image = np.expand_dims(test_image, axis = 0)\n",
    "result = model.predict(test_image)>0.5"
   ]
  },
  {
   "cell_type": "code",
   "execution_count": 15,
   "id": "0c02f3be",
   "metadata": {},
   "outputs": [
    {
     "data": {
      "text/plain": [
       "['Alzheimer', 'Parkinson']"
      ]
     },
     "execution_count": 15,
     "metadata": {},
     "output_type": "execute_result"
    }
   ],
   "source": [
    "train_set.class_names"
   ]
  },
  {
   "cell_type": "code",
   "execution_count": 16,
   "id": "f2915e96",
   "metadata": {},
   "outputs": [
    {
     "name": "stdout",
     "output_type": "stream",
     "text": [
      "Parkinson\n"
     ]
    }
   ],
   "source": [
    "if result==1:\n",
    "    prediction='Parkinson'\n",
    "else:\n",
    "    prediction='Alzheimer'\n",
    "print(prediction)"
   ]
  },
  {
   "cell_type": "code",
   "execution_count": 18,
   "id": "90488073",
   "metadata": {},
   "outputs": [
    {
     "name": "stdout",
     "output_type": "stream",
     "text": [
      "1/1 [==============================] - 0s 125ms/step\n"
     ]
    }
   ],
   "source": [
    "y_pred=model.predict(test_set)\n",
    "y_pred=y_pred>0.5"
   ]
  },
  {
   "cell_type": "code",
   "execution_count": 19,
   "id": "5d9647ac",
   "metadata": {},
   "outputs": [
    {
     "name": "stdout",
     "output_type": "stream",
     "text": [
      "[[False]\n",
      " [ True]\n",
      " [False]\n",
      " [False]\n",
      " [ True]\n",
      " [ True]\n",
      " [ True]\n",
      " [False]\n",
      " [False]\n",
      " [ True]\n",
      " [False]\n",
      " [ True]\n",
      " [ True]\n",
      " [False]\n",
      " [False]\n",
      " [False]\n",
      " [ True]\n",
      " [False]\n",
      " [ True]\n",
      " [ True]]\n"
     ]
    }
   ],
   "source": [
    "print(y_pred)"
   ]
  },
  {
   "cell_type": "code",
   "execution_count": 25,
   "id": "750536c9",
   "metadata": {},
   "outputs": [],
   "source": [
    "y_true = [labels.numpy() for _, labels in test_set]\n",
    "y_true = np.concatenate(y_true)"
   ]
  },
  {
   "cell_type": "code",
   "execution_count": 26,
   "id": "65fb56ed",
   "metadata": {},
   "outputs": [
    {
     "name": "stdout",
     "output_type": "stream",
     "text": [
      "[0 0 1 0 0 1 1 0 0 1 0 0 0 1 1 0 1 1 1 1]\n"
     ]
    }
   ],
   "source": [
    "print(y_true)"
   ]
  },
  {
   "cell_type": "code",
   "execution_count": 27,
   "id": "445b53f0",
   "metadata": {},
   "outputs": [
    {
     "data": {
      "text/plain": [
       "0.6"
      ]
     },
     "execution_count": 27,
     "metadata": {},
     "output_type": "execute_result"
    }
   ],
   "source": [
    "from sklearn.metrics import accuracy_score,confusion_matrix,classification_report\n",
    "accuracy_score(y_true,y_pred)"
   ]
  },
  {
   "cell_type": "code",
   "execution_count": 29,
   "id": "51518985",
   "metadata": {},
   "outputs": [
    {
     "data": {
      "text/plain": [
       "array([[6, 4],\n",
       "       [4, 6]], dtype=int64)"
      ]
     },
     "execution_count": 29,
     "metadata": {},
     "output_type": "execute_result"
    }
   ],
   "source": [
    "confusion_matrix(y_true,y_pred)"
   ]
  },
  {
   "cell_type": "code",
   "execution_count": 31,
   "id": "da7ce239",
   "metadata": {},
   "outputs": [
    {
     "name": "stdout",
     "output_type": "stream",
     "text": [
      "              precision    recall  f1-score   support\n",
      "\n",
      "           0       0.60      0.60      0.60        10\n",
      "           1       0.60      0.60      0.60        10\n",
      "\n",
      "    accuracy                           0.60        20\n",
      "   macro avg       0.60      0.60      0.60        20\n",
      "weighted avg       0.60      0.60      0.60        20\n",
      "\n"
     ]
    }
   ],
   "source": [
    "print(classification_report(y_true,y_pred))"
   ]
  },
  {
   "cell_type": "code",
   "execution_count": null,
   "id": "bcdd6296",
   "metadata": {},
   "outputs": [],
   "source": []
  }
 ],
 "metadata": {
  "kernelspec": {
   "display_name": "Python 3 (ipykernel)",
   "language": "python",
   "name": "python3"
  },
  "language_info": {
   "codemirror_mode": {
    "name": "ipython",
    "version": 3
   },
   "file_extension": ".py",
   "mimetype": "text/x-python",
   "name": "python",
   "nbconvert_exporter": "python",
   "pygments_lexer": "ipython3",
   "version": "3.10.9"
  }
 },
 "nbformat": 4,
 "nbformat_minor": 5
}
